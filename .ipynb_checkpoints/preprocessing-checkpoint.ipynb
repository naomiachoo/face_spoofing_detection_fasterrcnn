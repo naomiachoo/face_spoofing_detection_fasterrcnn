{
 "cells": [
  {
   "cell_type": "code",
   "execution_count": 37,
   "metadata": {},
   "outputs": [],
   "source": [
    "import cv2\n",
    "from matplotlib import pyplot as plt\n",
    "import numpy as np\n",
    "import os\n",
    "import pandas as pd\n",
    "import random\n",
    "from skimage import io\n",
    "from shutil import copyfile\n",
    "import sys\n",
    "import time\n",
    "import json\n",
    "import tensorflow as tf\n",
    "\n",
    "from tensorflow.keras.preprocessing.image import load_img, img_to_array"
   ]
  },
  {
   "cell_type": "code",
   "execution_count": 53,
   "metadata": {},
   "outputs": [],
   "source": [
    "path = r'X:\\AKADEMIK\\Perkuliahan\\Semester6\\TA\\Dataset\\CelebA_Spoof\\metas\\intra_test\\train_dummy.txt'\n",
    "base_path = r'X:\\AKADEMIK\\Perkuliahan\\Semester6\\TA\\Dataset\\CelebA_Spoof\\'"
   ]
  },
  {
   "cell_type": "code",
   "execution_count": 43,
   "metadata": {},
   "outputs": [
    {
     "name": "stdout",
     "output_type": "stream",
     "text": [
      "X:\\AKADEMIK\\Perkuliahan\\Semester6\\TA\\Dataset\\CelebA_Spoof\\metas\\intra_test\\train_dummy.txt\n"
     ]
    }
   ],
   "source": [
    "print(path)"
   ]
  },
  {
   "cell_type": "code",
   "execution_count": 54,
   "metadata": {},
   "outputs": [
    {
     "name": "stdout",
     "output_type": "stream",
     "text": [
      "X:\\AKADEMIK\\Perkuliahan\\Semester6\\TA\\Dataset\\CelebA_SpoofData/train/2623/live/000000.jpg\n",
      "Data/train/2623/live/000000.jpg tidak ditemukan\n",
      "X:\\AKADEMIK\\Perkuliahan\\Semester6\\TA\\Dataset\\CelebA_SpoofData/train/5489/spoof/000001.jpg\n",
      "Data/train/5489/spoof/000001.jpg tidak ditemukan\n",
      "X:\\AKADEMIK\\Perkuliahan\\Semester6\\TA\\Dataset\\CelebA_SpoofData/train/7149/spoof/000002.jpg\n",
      "Data/train/7149/spoof/000002.jpg tidak ditemukan\n",
      "X:\\AKADEMIK\\Perkuliahan\\Semester6\\TA\\Dataset\\CelebA_SpoofData/train/4980/spoof/000003.jpg\n",
      "Data/train/4980/spoof/000003.jpg tidak ditemukan\n",
      "X:\\AKADEMIK\\Perkuliahan\\Semester6\\TA\\Dataset\\CelebA_SpoofData/train/7124/spoof/000004.jpg\n",
      "Data/train/7124/spoof/000004.jpg tidak ditemukan\n",
      "X:\\AKADEMIK\\Perkuliahan\\Semester6\\TA\\Dataset\\CelebA_SpoofData/train/7013/live/000005.jpg\n",
      "Data/train/7013/live/000005.jpg tidak ditemukan\n",
      "X:\\AKADEMIK\\Perkuliahan\\Semester6\\TA\\Dataset\\CelebA_SpoofData/train/1857/live/000006.jpg\n",
      "Data/train/1857/live/000006.jpg tidak ditemukan\n",
      "X:\\AKADEMIK\\Perkuliahan\\Semester6\\TA\\Dataset\\CelebA_SpoofData/train/8206/spoof/000007.jpg\n",
      "Data/train/8206/spoof/000007.jpg tidak ditemukan\n",
      "X:\\AKADEMIK\\Perkuliahan\\Semester6\\TA\\Dataset\\CelebA_SpoofData/train/6980/spoof/000008.jpg\n",
      "Data/train/6980/spoof/000008.jpg tidak ditemukan\n",
      "X:\\AKADEMIK\\Perkuliahan\\Semester6\\TA\\Dataset\\CelebA_SpoofData/train/5319/live/000009.jpg\n",
      "Data/train/5319/live/000009.jpg tidak ditemukan\n",
      "X:\\AKADEMIK\\Perkuliahan\\Semester6\\TA\\Dataset\\CelebA_SpoofData/train/2710/spoof/000010.jpg\n",
      "Data/train/2710/spoof/000010.jpg tidak ditemukan\n"
     ]
    }
   ],
   "source": [
    "with open(path, 'r') as f:\n",
    "    for data in f:\n",
    "        split = data.strip('\\n').split(' ')\n",
    "        file_name, stat_spoof = split\n",
    "        print(base_path + file_name)\n",
    "        try:\n",
    "            with open(base_path + file_name, 'r') as f2:\n",
    "                for data2 in f2:\n",
    "                    split2 = data.strip('\\n'.split(' '))\n",
    "        except FileNotFoundError:\n",
    "            print(file_name + ' tidak ditemukan')\n",
    "        else:\n",
    "            x1, y1, x2, y2 = split2"
   ]
  },
  {
   "cell_type": "code",
   "execution_count": null,
   "metadata": {},
   "outputs": [],
   "source": []
  }
 ],
 "metadata": {
  "kernelspec": {
   "display_name": "Python 3",
   "language": "python",
   "name": "python3"
  },
  "language_info": {
   "codemirror_mode": {
    "name": "ipython",
    "version": 3
   },
   "file_extension": ".py",
   "mimetype": "text/x-python",
   "name": "python",
   "nbconvert_exporter": "python",
   "pygments_lexer": "ipython3",
   "version": "3.7.4"
  }
 },
 "nbformat": 4,
 "nbformat_minor": 2
}
