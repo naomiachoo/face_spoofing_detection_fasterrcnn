{
 "cells": [
  {
   "cell_type": "code",
   "execution_count": 37,
   "metadata": {},
   "outputs": [],
   "source": [
    "import cv2\n",
    "from matplotlib import pyplot as plt\n",
    "import numpy as np\n",
    "import os\n",
    "import pandas as pd\n",
    "import random\n",
    "from skimage import io\n",
    "from shutil import copyfile\n",
    "import sys\n",
    "import time\n",
    "import json\n",
    "import tensorflow as tf\n",
    "\n",
    "from tensorflow.keras.preprocessing.image import load_img, img_to_array"
   ]
  },
  {
   "cell_type": "code",
   "execution_count": 118,
   "metadata": {},
   "outputs": [],
   "source": [
    "path = r'X:\\AKADEMIK\\Perkuliahan\\Semester6\\TA\\Dataset\\CelebA_Spoof\\metas\\intra_test\\train_label.txt'\n",
    "base_path = r'X:\\AKADEMIK\\Perkuliahan\\Semester6\\TA\\Dataset\\CelebA_Spoof\\Data\\train\\nomor\\type\\file'"
   ]
  },
  {
   "cell_type": "code",
   "execution_count": 119,
   "metadata": {},
   "outputs": [
    {
     "name": "stdout",
     "output_type": "stream",
     "text": [
      "X:\\AKADEMIK\\Perkuliahan\\Semester6\\TA\\Dataset\\CelebA_Spoof\\metas\\intra_test\\train_label.txt\n"
     ]
    }
   ],
   "source": [
    "print(path)"
   ]
  },
  {
   "cell_type": "code",
   "execution_count": 120,
   "metadata": {},
   "outputs": [
    {
     "name": "stdout",
     "output_type": "stream",
     "text": [
      "DONE...\n",
      "file sebesar 494405 telah di simpan ke file train_annotation.txt\n",
      "--- 17504.652967214584 seconds ---\n"
     ]
    }
   ],
   "source": [
    "start_time = time.time()\n",
    "with open(path, 'r') as f:\n",
    "    i = 0\n",
    "    with open(path_simpan, 'w+') as file_simpan:\n",
    "        for data in f:\n",
    "            i = i + 1\n",
    "            split = data.strip('\\n').split(' ')\n",
    "            file_name, stat_spoof = split\n",
    "\n",
    "            split_file = file_name.strip('').split('/')\n",
    "            #print(split_file)\n",
    "            base_path = base_path.replace('nomor', split_file[2])\n",
    "            base_path = base_path.replace('type', split_file[3])\n",
    "            base_path = base_path.replace('file', split_file[4])\n",
    "            base_path = base_path.replace('.jpg', '_BB.txt')\n",
    "            #print(base_path)\n",
    "\n",
    "            if int(split[1]) == 1:\n",
    "                class_spoof = 'spoof'\n",
    "            else :\n",
    "                class_spoof = 'live'\n",
    "            #print(base_path)\n",
    "            try:\n",
    "                with open(base_path, 'r') as f2:\n",
    "                    for data2 in f2:\n",
    "                        split2 = data2.strip('\\n').split(' ')\n",
    "                        #print(base_path)\n",
    "                        #print(split2)\n",
    "            except FileNotFoundError:\n",
    "                print(base_path + ' tidak ditemukan')\n",
    "            else:\n",
    "                base_path = r'X:\\AKADEMIK\\Perkuliahan\\Semester6\\TA\\Dataset\\CelebA_Spoof\\Data\\train\\nomor\\type\\file'\n",
    "                x1, y1, x2, y2, persen = split2\n",
    "                # write ke dalam file train_annotation.txt\n",
    "                path_simpan = r'X:\\AKADEMIK\\Perkuliahan\\Semester6\\TA\\Dataset\\CelebA_Spoof\\metas\\intra_test\\train_annotation.txt'\n",
    "\n",
    "                file_simpan.write(file_name + ' ' + x1 + ' ' + y1 + ' ' + x2 + ' ' + y2 + ' ' + class_spoof + '\\n')\n",
    "                #print(file_name, x1, y1, x2, y2, class_spoof)\n",
    "\n",
    "print('DONE...')\n",
    "print('file sebesar ' + str(i) +' telah di simpan ke file train_annotation.txt')\n",
    "print(\"--- %s seconds ---\" % (time.time() - start_time))"
   ]
  },
  {
   "cell_type": "code",
   "execution_count": null,
   "metadata": {},
   "outputs": [],
   "source": []
  }
 ],
 "metadata": {
  "kernelspec": {
   "display_name": "Python 3",
   "language": "python",
   "name": "python3"
  },
  "language_info": {
   "codemirror_mode": {
    "name": "ipython",
    "version": 3
   },
   "file_extension": ".py",
   "mimetype": "text/x-python",
   "name": "python",
   "nbconvert_exporter": "python",
   "pygments_lexer": "ipython3",
   "version": "3.7.4"
  }
 },
 "nbformat": 4,
 "nbformat_minor": 2
}
